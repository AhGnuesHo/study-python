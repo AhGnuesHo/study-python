{
 "cells": [
  {
   "cell_type": "markdown",
   "id": "85a2d4e5-230a-4af6-b43a-872e29ba687a",
   "metadata": {},
   "source": [
    "### **WEEK3. 02장  제어문 백준**"
   ]
  },
  {
   "cell_type": "markdown",
   "id": "c782f554-031c-4ad2-b69c-cbb8ea6cf637",
   "metadata": {},
   "source": [
    "#### **Q1.**"
   ]
  },
  {
   "cell_type": "code",
   "execution_count": 4,
   "id": "740a4489-1972-45ec-b673-f146ee9fcffe",
   "metadata": {},
   "outputs": [
    {
     "name": "stdin",
     "output_type": "stream",
     "text": [
      " 1 2\n"
     ]
    },
    {
     "name": "stdout",
     "output_type": "stream",
     "text": [
      "<\n"
     ]
    }
   ],
   "source": [
    "A,B = map(int,input().split())\n",
    "\n",
    "if A > B:\n",
    "    print('>')\n",
    "elif A < B:\n",
    "    print('<')\n",
    "else:\n",
    "    print('==')"
   ]
  },
  {
   "cell_type": "markdown",
   "id": "02f1664e-bb80-4ca3-ae17-acf0e0f5de97",
   "metadata": {},
   "source": [
    "#### **Q2.**"
   ]
  },
  {
   "cell_type": "code",
   "execution_count": 5,
   "id": "38971ccd-0066-47b8-84b3-301197bae6d6",
   "metadata": {},
   "outputs": [
    {
     "name": "stdin",
     "output_type": "stream",
     "text": [
      " 34\n"
     ]
    },
    {
     "name": "stdout",
     "output_type": "stream",
     "text": [
      "F\n"
     ]
    }
   ],
   "source": [
    "score = int(input())\n",
    "\n",
    "if 90 <= score <= 100:\n",
    "    print('A')\n",
    "elif 80 <= score <= 89:\n",
    "    print('B')\n",
    "elif 70 <= score <= 79:\n",
    "    print('C')\n",
    "elif 60 <= score <= 69:\n",
    "    print('D')\n",
    "else:\n",
    "    print('F')"
   ]
  },
  {
   "cell_type": "markdown",
   "id": "a3926222-f017-4236-b9f3-c2d89e660cc0",
   "metadata": {},
   "source": [
    "#### **Q3.**"
   ]
  },
  {
   "cell_type": "code",
   "execution_count": 9,
   "id": "72ab28a9-281b-4868-81d2-63661ea6f41e",
   "metadata": {},
   "outputs": [
    {
     "name": "stdin",
     "output_type": "stream",
     "text": [
      " 2000\n"
     ]
    },
    {
     "name": "stdout",
     "output_type": "stream",
     "text": [
      "1\n"
     ]
    }
   ],
   "source": [
    "year = int(input())\n",
    "\n",
    "if (year % 4 == 0 and year % 100 != 0) or (year % 400 == 0):\n",
    "    print('1')\n",
    "else:\n",
    "    print('0')"
   ]
  },
  {
   "cell_type": "markdown",
   "id": "4a172cd4-01a9-4af4-98d6-1cb89c7b1e28",
   "metadata": {},
   "source": [
    "#### **Q4.**"
   ]
  },
  {
   "cell_type": "code",
   "execution_count": 16,
   "id": "cc0cb58b-f947-4586-8ff2-a656e568ef60",
   "metadata": {},
   "outputs": [
    {
     "name": "stdin",
     "output_type": "stream",
     "text": [
      " 12\n",
      " -5\n"
     ]
    },
    {
     "name": "stdout",
     "output_type": "stream",
     "text": [
      "4\n"
     ]
    }
   ],
   "source": [
    "x = int(input())\n",
    "y = int(input())\n",
    "\n",
    "if x>0 and y>0:\n",
    "    print('1')\n",
    "elif x<0 and y>0:\n",
    "    print('2')\n",
    "elif x<0 and y<0:\n",
    "    print('3')\n",
    "else:\n",
    "    print('4')"
   ]
  },
  {
   "cell_type": "markdown",
   "id": "788ca98b-9382-41f9-ae77-0ed7b58c1362",
   "metadata": {},
   "source": [
    "#### **Q5.**"
   ]
  },
  {
   "cell_type": "code",
   "execution_count": 39,
   "id": "c8fd8f5a-188f-4849-9c45-042f6a5222d9",
   "metadata": {},
   "outputs": [
    {
     "name": "stdin",
     "output_type": "stream",
     "text": [
      " 23 40\n"
     ]
    },
    {
     "name": "stdout",
     "output_type": "stream",
     "text": [
      "22 55\n"
     ]
    }
   ],
   "source": [
    "H,M = map(int,input().split())\n",
    "\n",
    "if M >= 45:\n",
    "    print(H,M-45)\n",
    "elif H == 0 and M < 45:\n",
    "    print(23, M+15)\n",
    "else:\n",
    "    print(H-1,M+15)"
   ]
  },
  {
   "cell_type": "markdown",
   "id": "24c32039-74f3-4551-936f-8ea2ebaffad3",
   "metadata": {},
   "source": [
    "#### **Q6.**"
   ]
  },
  {
   "cell_type": "code",
   "execution_count": 24,
   "id": "0d8284d9-02c4-46a5-9d4f-9bc8ee1ca3b3",
   "metadata": {},
   "outputs": [
    {
     "name": "stdin",
     "output_type": "stream",
     "text": [
      " 23 48\n",
      " 25\n"
     ]
    },
    {
     "name": "stdout",
     "output_type": "stream",
     "text": [
      "0 13\n"
     ]
    }
   ],
   "source": [
    "A,B = map(int,input().split())\n",
    "C = int(input())\n",
    "\n",
    "if B+C>= 60:\n",
    "    A = A+((B+C)//60)\n",
    "    B = (B+C)%60\n",
    "        \n",
    "    if A >=24:\n",
    "        A = A - 24\n",
    "            \n",
    "else:\n",
    "    A = A\n",
    "    B = B+C\n",
    "    \n",
    "print(A,B)\n",
    "    "
   ]
  },
  {
   "cell_type": "markdown",
   "id": "042f2e75-7a44-4600-9303-8b8214ac1e8f",
   "metadata": {},
   "source": [
    "#### **Q7.**"
   ]
  },
  {
   "cell_type": "code",
   "execution_count": 25,
   "id": "ac9daae4-6720-42ea-81c6-284ee4221a2c",
   "metadata": {},
   "outputs": [
    {
     "name": "stdin",
     "output_type": "stream",
     "text": [
      " 10 10 10\n"
     ]
    },
    {
     "name": "stdout",
     "output_type": "stream",
     "text": [
      "20000\n"
     ]
    }
   ],
   "source": [
    "A,B,C = map(int,input().split())\n",
    "\n",
    "if A==B and B==C:\n",
    "    reward = 10000 + (A*1000)\n",
    "elif (A==B and A!=C) or (A==C and A!=B):\n",
    "    reward = 1000 + (A*100)\n",
    "elif B==C and B!=A:\n",
    "    reward = 1000 + (B*100)\n",
    "elif A > B and A > C:\n",
    "    reward = A*100\n",
    "elif B > A and B > C:\n",
    "    reward = B*100\n",
    "else:\n",
    "    reward = C*100\n",
    "    \n",
    "print(reward)"
   ]
  },
  {
   "cell_type": "markdown",
   "id": "c830ee27-0d01-4abb-a0a9-086924115c12",
   "metadata": {},
   "source": [
    "#### **Q1.**"
   ]
  },
  {
   "cell_type": "code",
   "execution_count": 32,
   "id": "44265cc5-1304-4599-8578-f3310ada6008",
   "metadata": {},
   "outputs": [
    {
     "name": "stdin",
     "output_type": "stream",
     "text": [
      " 2\n"
     ]
    },
    {
     "name": "stdout",
     "output_type": "stream",
     "text": [
      "2 * 1 = 2\n",
      "2 * 2 = 4\n",
      "2 * 3 = 6\n",
      "2 * 4 = 8\n",
      "2 * 5 = 10\n",
      "2 * 6 = 12\n",
      "2 * 7 = 14\n",
      "2 * 8 = 16\n"
     ]
    }
   ],
   "source": [
    "N = int(input())\n",
    "\n",
    "for i in range(1,10):\n",
    "    print(f'{N} * {i} = {N * i}')"
   ]
  },
  {
   "cell_type": "markdown",
   "id": "eee88e7e-37d2-4cbb-b542-3bd99ef17f6b",
   "metadata": {},
   "source": [
    "#### **Q2.**"
   ]
  },
  {
   "cell_type": "code",
   "execution_count": 35,
   "id": "6ae04260-98d3-4548-9467-40d16f96061c",
   "metadata": {},
   "outputs": [
    {
     "name": "stdin",
     "output_type": "stream",
     "text": [
      " 5\n",
      " 1 1\n"
     ]
    },
    {
     "name": "stdout",
     "output_type": "stream",
     "text": [
      "2\n"
     ]
    },
    {
     "name": "stdin",
     "output_type": "stream",
     "text": [
      " 1 1 \n"
     ]
    },
    {
     "name": "stdout",
     "output_type": "stream",
     "text": [
      "2\n"
     ]
    },
    {
     "name": "stdin",
     "output_type": "stream",
     "text": [
      " 3 4\n"
     ]
    },
    {
     "name": "stdout",
     "output_type": "stream",
     "text": [
      "7\n"
     ]
    },
    {
     "name": "stdin",
     "output_type": "stream",
     "text": [
      " 5 6\n"
     ]
    },
    {
     "name": "stdout",
     "output_type": "stream",
     "text": [
      "11\n"
     ]
    },
    {
     "name": "stdin",
     "output_type": "stream",
     "text": [
      " 6 7\n"
     ]
    },
    {
     "name": "stdout",
     "output_type": "stream",
     "text": [
      "13\n"
     ]
    }
   ],
   "source": [
    "test_num = int(input())\n",
    "for i in range(1, test_num+1):\n",
    "    A, B = map(int,input().split())\n",
    "    print(A + B)"
   ]
  },
  {
   "cell_type": "markdown",
   "id": "2e1bf493-4742-4314-89c0-d9fcbc56160a",
   "metadata": {},
   "source": [
    "#### **Q3.**"
   ]
  },
  {
   "cell_type": "code",
   "execution_count": 47,
   "id": "2f68a91c-7602-4e19-b2a4-d67387872189",
   "metadata": {},
   "outputs": [
    {
     "name": "stdin",
     "output_type": "stream",
     "text": [
      " 100\n"
     ]
    },
    {
     "name": "stdout",
     "output_type": "stream",
     "text": [
      "5050\n"
     ]
    }
   ],
   "source": [
    "n = int(input())\n",
    "\n",
    "total = 0\n",
    "for i in range(n+1):\n",
    "    total += i \n",
    "    \n",
    "print(total)"
   ]
  },
  {
   "cell_type": "markdown",
   "id": "6381f788-13be-468d-862f-b37a2b953f7a",
   "metadata": {},
   "source": [
    "#### **Q4.**"
   ]
  },
  {
   "cell_type": "code",
   "execution_count": 71,
   "id": "bdef20dd-9c12-480d-adab-35b5e0452b0f",
   "metadata": {
    "collapsed": true,
    "jupyter": {
     "outputs_hidden": true
    },
    "tags": []
   },
   "outputs": [
    {
     "ename": "ValueError",
     "evalue": "invalid literal for int() with base 10: ''",
     "output_type": "error",
     "traceback": [
      "\u001b[1;31m---------------------------------------------------------------------------\u001b[0m",
      "\u001b[1;31mValueError\u001b[0m                                Traceback (most recent call last)",
      "\u001b[1;32m~\\AppData\\Local\\Temp/ipykernel_9988/1333734846.py\u001b[0m in \u001b[0;36m<module>\u001b[1;34m\u001b[0m\n\u001b[0;32m      1\u001b[0m \u001b[1;32mimport\u001b[0m \u001b[0msys\u001b[0m\u001b[1;33m\u001b[0m\u001b[1;33m\u001b[0m\u001b[0m\n\u001b[0;32m      2\u001b[0m \u001b[1;33m\u001b[0m\u001b[0m\n\u001b[1;32m----> 3\u001b[1;33m \u001b[0mtest_num\u001b[0m \u001b[1;33m=\u001b[0m \u001b[0mint\u001b[0m\u001b[1;33m(\u001b[0m\u001b[0msys\u001b[0m\u001b[1;33m.\u001b[0m\u001b[0mstdin\u001b[0m\u001b[1;33m.\u001b[0m\u001b[0mreadline\u001b[0m\u001b[1;33m(\u001b[0m\u001b[1;33m)\u001b[0m\u001b[1;33m)\u001b[0m\u001b[1;33m\u001b[0m\u001b[1;33m\u001b[0m\u001b[0m\n\u001b[0m\u001b[0;32m      4\u001b[0m \u001b[1;33m\u001b[0m\u001b[0m\n\u001b[0;32m      5\u001b[0m \u001b[1;32mfor\u001b[0m \u001b[0mi\u001b[0m \u001b[1;32min\u001b[0m \u001b[0mrange\u001b[0m\u001b[1;33m(\u001b[0m\u001b[0mtest_num\u001b[0m\u001b[1;33m)\u001b[0m\u001b[1;33m:\u001b[0m\u001b[1;33m\u001b[0m\u001b[1;33m\u001b[0m\u001b[0m\n",
      "\u001b[1;31mValueError\u001b[0m: invalid literal for int() with base 10: ''"
     ]
    }
   ],
   "source": [
    "import sys\n",
    "\n",
    "test_num = int(sys.stdin.readline())\n",
    "\n",
    "for i in range(test_num):\n",
    "    A, B = map(int, sys.stdin.readline().split())\n",
    "    print(A + B)"
   ]
  },
  {
   "cell_type": "markdown",
   "id": "ca0b094f-80fb-4b3d-a8d0-e118eecd9336",
   "metadata": {
    "tags": []
   },
   "source": [
    "#### **Q5.**"
   ]
  },
  {
   "cell_type": "code",
   "execution_count": 59,
   "id": "466cab2c-db09-4826-b18d-5aeab152cb83",
   "metadata": {},
   "outputs": [
    {
     "name": "stdin",
     "output_type": "stream",
     "text": [
      " 5\n"
     ]
    },
    {
     "name": "stdout",
     "output_type": "stream",
     "text": [
      "0\n",
      "1\n",
      "2\n",
      "3\n",
      "4\n",
      "5\n"
     ]
    }
   ],
   "source": [
    "n = int(input())\n",
    "for i in range(1, n+1):\n",
    "    print(i)"
   ]
  },
  {
   "cell_type": "markdown",
   "id": "85dc26f3-7bdd-4682-8a92-c858d4073b1a",
   "metadata": {},
   "source": [
    "#### **Q6.**"
   ]
  },
  {
   "cell_type": "code",
   "execution_count": 93,
   "id": "0761899f-8e04-4857-b6e7-b5a87e4fb017",
   "metadata": {},
   "outputs": [
    {
     "name": "stdin",
     "output_type": "stream",
     "text": [
      " 5\n"
     ]
    },
    {
     "name": "stdout",
     "output_type": "stream",
     "text": [
      "5\n",
      "4\n",
      "3\n",
      "2\n",
      "1\n"
     ]
    }
   ],
   "source": [
    "n = int(input())\n",
    "\n",
    "for i in range(n):\n",
    "    print(n - i)"
   ]
  },
  {
   "cell_type": "markdown",
   "id": "4510c72f-07cb-43c3-8e22-e8d9322287f4",
   "metadata": {},
   "source": [
    "#### **Q7.**"
   ]
  },
  {
   "cell_type": "code",
   "execution_count": 2,
   "id": "f8360409-291e-4140-aa88-0a02676f8d6e",
   "metadata": {},
   "outputs": [
    {
     "name": "stdin",
     "output_type": "stream",
     "text": [
      " 5\n",
      " 1 1\n"
     ]
    },
    {
     "name": "stdout",
     "output_type": "stream",
     "text": [
      "Case #1: 2\n"
     ]
    },
    {
     "name": "stdin",
     "output_type": "stream",
     "text": [
      " 2 3\n"
     ]
    },
    {
     "name": "stdout",
     "output_type": "stream",
     "text": [
      "Case #2: 5\n"
     ]
    },
    {
     "name": "stdin",
     "output_type": "stream",
     "text": [
      " 3 4\n"
     ]
    },
    {
     "name": "stdout",
     "output_type": "stream",
     "text": [
      "Case #3: 7\n"
     ]
    },
    {
     "name": "stdin",
     "output_type": "stream",
     "text": [
      " 9 8\n"
     ]
    },
    {
     "name": "stdout",
     "output_type": "stream",
     "text": [
      "Case #4: 17\n"
     ]
    },
    {
     "name": "stdin",
     "output_type": "stream",
     "text": [
      " 5 2\n"
     ]
    },
    {
     "name": "stdout",
     "output_type": "stream",
     "text": [
      "Case #5: 7\n"
     ]
    }
   ],
   "source": [
    "n = int(input())\n",
    "\n",
    "for i in range(1, n+1):\n",
    "    A,B = map(int,input().split())\n",
    "    print(f\"Case #{i}: {A + B}\")"
   ]
  },
  {
   "cell_type": "markdown",
   "id": "2fd02b9b-874c-4cf2-a1aa-adb99919cd06",
   "metadata": {},
   "source": [
    "#### **Q8.**"
   ]
  },
  {
   "cell_type": "code",
   "execution_count": 3,
   "id": "a13b774a-02ec-4fdb-b51e-ba55b3662110",
   "metadata": {},
   "outputs": [
    {
     "name": "stdin",
     "output_type": "stream",
     "text": [
      " 5\n",
      " 1 1\n"
     ]
    },
    {
     "name": "stdout",
     "output_type": "stream",
     "text": [
      "Case #1: 1 + 1 = 2\n"
     ]
    },
    {
     "name": "stdin",
     "output_type": "stream",
     "text": [
      " 1\n"
     ]
    },
    {
     "ename": "ValueError",
     "evalue": "not enough values to unpack (expected 2, got 1)",
     "output_type": "error",
     "traceback": [
      "\u001b[1;31m---------------------------------------------------------------------------\u001b[0m",
      "\u001b[1;31mValueError\u001b[0m                                Traceback (most recent call last)",
      "\u001b[1;32m~\\AppData\\Local\\Temp/ipykernel_4296/3626213984.py\u001b[0m in \u001b[0;36m<module>\u001b[1;34m\u001b[0m\n\u001b[0;32m      2\u001b[0m \u001b[1;33m\u001b[0m\u001b[0m\n\u001b[0;32m      3\u001b[0m \u001b[1;32mfor\u001b[0m \u001b[0mi\u001b[0m \u001b[1;32min\u001b[0m \u001b[0mrange\u001b[0m\u001b[1;33m(\u001b[0m\u001b[1;36m1\u001b[0m\u001b[1;33m,\u001b[0m \u001b[0mn\u001b[0m\u001b[1;33m+\u001b[0m\u001b[1;36m1\u001b[0m\u001b[1;33m)\u001b[0m\u001b[1;33m:\u001b[0m\u001b[1;33m\u001b[0m\u001b[1;33m\u001b[0m\u001b[0m\n\u001b[1;32m----> 4\u001b[1;33m     \u001b[0mA\u001b[0m\u001b[1;33m,\u001b[0m\u001b[0mB\u001b[0m \u001b[1;33m=\u001b[0m \u001b[0mmap\u001b[0m\u001b[1;33m(\u001b[0m\u001b[0mint\u001b[0m\u001b[1;33m,\u001b[0m\u001b[0minput\u001b[0m\u001b[1;33m(\u001b[0m\u001b[1;33m)\u001b[0m\u001b[1;33m.\u001b[0m\u001b[0msplit\u001b[0m\u001b[1;33m(\u001b[0m\u001b[1;33m)\u001b[0m\u001b[1;33m)\u001b[0m\u001b[1;33m\u001b[0m\u001b[1;33m\u001b[0m\u001b[0m\n\u001b[0m\u001b[0;32m      5\u001b[0m     \u001b[0mprint\u001b[0m\u001b[1;33m(\u001b[0m\u001b[1;34mf\"Case #{i}: {A} + {B} = {A + B}\"\u001b[0m\u001b[1;33m)\u001b[0m\u001b[1;33m\u001b[0m\u001b[1;33m\u001b[0m\u001b[0m\n",
      "\u001b[1;31mValueError\u001b[0m: not enough values to unpack (expected 2, got 1)"
     ]
    }
   ],
   "source": [
    "n = int(input())\n",
    "\n",
    "for i in range(1, n+1):\n",
    "    A,B = map(int,input().split())\n",
    "    print(f\"Case #{i}: {A} + {B} = {A + B}\")"
   ]
  },
  {
   "cell_type": "markdown",
   "id": "fd53d93a-55d1-46c2-9572-625b7d51aa1a",
   "metadata": {},
   "source": [
    "#### **Q9.**"
   ]
  },
  {
   "cell_type": "code",
   "execution_count": 8,
   "id": "3a8c949c-b1cf-4c6c-85c0-e82e5f88e025",
   "metadata": {},
   "outputs": [
    {
     "name": "stdin",
     "output_type": "stream",
     "text": [
      " 5\n"
     ]
    },
    {
     "name": "stdout",
     "output_type": "stream",
     "text": [
      "*\n",
      "**\n",
      "***\n",
      "****\n",
      "*****\n"
     ]
    }
   ],
   "source": [
    "n = int(input())\n",
    "text = '*'\n",
    "for i in range(1, n+1):\n",
    "    print(f'{text*i}')"
   ]
  },
  {
   "cell_type": "markdown",
   "id": "1bd48ca1-c44f-423b-9293-a5c15015919e",
   "metadata": {},
   "source": [
    "#### **Q10.**"
   ]
  },
  {
   "cell_type": "code",
   "execution_count": 11,
   "id": "27c94410-912c-4bac-bb6d-fda223991c75",
   "metadata": {},
   "outputs": [
    {
     "name": "stdin",
     "output_type": "stream",
     "text": [
      " 5\n"
     ]
    },
    {
     "name": "stdout",
     "output_type": "stream",
     "text": [
      "    *\n",
      "   **\n",
      "  ***\n",
      " ****\n",
      "*****\n"
     ]
    }
   ],
   "source": [
    "n = int(input())\n",
    "text = '*'\n",
    "blank = ' '\n",
    "for i in range(1, n+1):\n",
    "    print(f'{blank*(n-i)}{text*i}')"
   ]
  },
  {
   "cell_type": "markdown",
   "id": "00bbe687-d09a-4cfb-a8f2-f2de8c24d506",
   "metadata": {},
   "source": [
    "#### **Q11.**"
   ]
  },
  {
   "cell_type": "code",
   "execution_count": null,
   "id": "cfd00036-ef57-4688-bb4d-23925a7c1c44",
   "metadata": {},
   "outputs": [],
   "source": [
    "N, X = map(int,input().split())\n",
    "nums = map(int,input().split())\n",
    "    \n",
    "for num in nums:\n",
    "    if num < X:\n",
    "        print(num, end=' ')"
   ]
  },
  {
   "cell_type": "markdown",
   "id": "00ee781c-fd17-4d42-ad2c-65c4d853fda3",
   "metadata": {},
   "source": [
    "#### **Q12.**"
   ]
  },
  {
   "cell_type": "code",
   "execution_count": 28,
   "id": "28ad96c2-f08d-4ded-b1c9-1a758c5a5fe2",
   "metadata": {},
   "outputs": [
    {
     "name": "stdin",
     "output_type": "stream",
     "text": [
      " 1 1\n"
     ]
    },
    {
     "name": "stdout",
     "output_type": "stream",
     "text": [
      "2\n"
     ]
    },
    {
     "name": "stdin",
     "output_type": "stream",
     "text": [
      " 0 0\n"
     ]
    }
   ],
   "source": [
    "while True:\n",
    "    A, B = map(int,input().split())\n",
    "    if A == 0 and B == 0:\n",
    "        break\n",
    "    else:\n",
    "        print(A + B)\n",
    "    "
   ]
  },
  {
   "cell_type": "markdown",
   "id": "26fa41d7-59ff-4032-9c4e-390d57859e7a",
   "metadata": {},
   "source": [
    "#### **Q13.**"
   ]
  },
  {
   "cell_type": "code",
   "execution_count": 31,
   "id": "08acbbb3-d9b8-4d36-a8bd-289261857279",
   "metadata": {},
   "outputs": [
    {
     "name": "stdin",
     "output_type": "stream",
     "text": [
      " 10 10\n"
     ]
    },
    {
     "name": "stdout",
     "output_type": "stream",
     "text": [
      "20\n"
     ]
    },
    {
     "name": "stdin",
     "output_type": "stream",
     "text": [
      " q\n"
     ]
    }
   ],
   "source": [
    "while True:\n",
    "    try:\n",
    "        A, B = map(int, input().split())\n",
    "        print(A+B)\n",
    "    except:\n",
    "        break"
   ]
  },
  {
   "cell_type": "markdown",
   "id": "fdb4023f-1c89-44d7-93fa-d20d4504851d",
   "metadata": {},
   "source": [
    "#### **Q14.**"
   ]
  },
  {
   "cell_type": "code",
   "execution_count": 70,
   "id": "de7c342c-8a1c-4a22-b771-999bf2c1880c",
   "metadata": {},
   "outputs": [
    {
     "name": "stdin",
     "output_type": "stream",
     "text": [
      " 55\n"
     ]
    },
    {
     "name": "stdout",
     "output_type": "stream",
     "text": [
      "3\n"
     ]
    }
   ],
   "source": [
    "n = num = int(input())\n",
    "cnt = 0\n",
    "\n",
    "while True :\n",
    "    sum = n//10 + n%10\n",
    "    new_num = n%10*10 + sum%10\n",
    "    \n",
    "    cnt += 1\n",
    "    n = new_num\n",
    "\n",
    "    if new_num == num :\n",
    "        break\n",
    "\n",
    "print (cnt)"
   ]
  }
 ],
 "metadata": {
  "kernelspec": {
   "display_name": "Python 3 (ipykernel)",
   "language": "python",
   "name": "python3"
  },
  "language_info": {
   "codemirror_mode": {
    "name": "ipython",
    "version": 3
   },
   "file_extension": ".py",
   "mimetype": "text/x-python",
   "name": "python",
   "nbconvert_exporter": "python",
   "pygments_lexer": "ipython3",
   "version": "3.9.7"
  }
 },
 "nbformat": 4,
 "nbformat_minor": 5
}
