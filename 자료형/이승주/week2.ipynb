{
 "cells": [
  {
   "cell_type": "markdown",
   "id": "18264a09-3eb7-426f-a4b2-989617255849",
   "metadata": {},
   "source": [
    "### **WEEK2. 02장 자료형 연습문제**"
   ]
  },
  {
   "cell_type": "markdown",
   "id": "a223d06b-d3d4-45a3-8a11-c5abad9d7234",
   "metadata": {},
   "source": [
    "#### **Q1.**"
   ]
  },
  {
   "cell_type": "code",
   "execution_count": 13,
   "id": "0d648207-2372-465c-9731-2c8622377015",
   "metadata": {},
   "outputs": [
    {
     "data": {
      "text/plain": [
       "70"
      ]
     },
     "execution_count": 13,
     "metadata": {},
     "output_type": "execute_result"
    }
   ],
   "source": [
    "korean = 80\n",
    "english = 75\n",
    "math = 55\n",
    "\n",
    "average = int((korean + english + math)/3)\n",
    "average"
   ]
  },
  {
   "cell_type": "markdown",
   "id": "0fc516f5-94e7-4d5a-9781-c554a51ed413",
   "metadata": {},
   "source": [
    "#### **Q2.**"
   ]
  },
  {
   "cell_type": "code",
   "execution_count": 17,
   "id": "c3333be3-1588-4b1a-a047-c251c06acd47",
   "metadata": {},
   "outputs": [
    {
     "name": "stdout",
     "output_type": "stream",
     "text": [
      "13은 홀수입니다.\n"
     ]
    }
   ],
   "source": [
    "if 13 % 2 == 0:\n",
    "    print(f'13은 짝수입니다.')\n",
    "else:\n",
    "    print(f'13은 홀수입니다.')\n",
    "    "
   ]
  },
  {
   "cell_type": "markdown",
   "id": "581ea3f9-be39-49da-bd33-029832873734",
   "metadata": {},
   "source": [
    "#### **Q3.**"
   ]
  },
  {
   "cell_type": "code",
   "execution_count": 26,
   "id": "13fa1073-4fe8-4e36-ad16-5ca8d4af6cf3",
   "metadata": {},
   "outputs": [
    {
     "name": "stdout",
     "output_type": "stream",
     "text": [
      "881120\n",
      "1068234\n"
     ]
    }
   ],
   "source": [
    "pin = \"881120-1068234\"\n",
    "print(pin[:6])\n",
    "print(pin[7:14])"
   ]
  },
  {
   "cell_type": "markdown",
   "id": "d3ff49e4-1b54-4abb-97ef-167e10df9486",
   "metadata": {},
   "source": [
    "#### **Q4.**"
   ]
  },
  {
   "cell_type": "code",
   "execution_count": 27,
   "id": "81337586-d6f1-4327-a79e-3bb695598cf4",
   "metadata": {},
   "outputs": [
    {
     "name": "stdout",
     "output_type": "stream",
     "text": [
      "1\n"
     ]
    }
   ],
   "source": [
    "print(pin[7])"
   ]
  },
  {
   "cell_type": "markdown",
   "id": "c3e66719-cd38-48ca-b9b3-bb8ceb2d3ab3",
   "metadata": {},
   "source": [
    "#### **Q5.**"
   ]
  },
  {
   "cell_type": "code",
   "execution_count": 31,
   "id": "0deb918a-de62-4368-ba6d-5d03f32e86b8",
   "metadata": {},
   "outputs": [
    {
     "name": "stdout",
     "output_type": "stream",
     "text": [
      "a#b#c#d\n"
     ]
    }
   ],
   "source": [
    "a = \"a:b:c:d\"\n",
    "b = a.replace(\":\",\"#\")\n",
    "print(b)"
   ]
  },
  {
   "cell_type": "markdown",
   "id": "58478517-011f-4188-a2c9-2c89aaa3438e",
   "metadata": {},
   "source": [
    "#### **Q6.**"
   ]
  },
  {
   "cell_type": "code",
   "execution_count": 46,
   "id": "b528eaa5-aba3-4760-9319-83ed06426794",
   "metadata": {},
   "outputs": [
    {
     "data": {
      "text/plain": [
       "[5, 4, 3, 2, 1]"
      ]
     },
     "execution_count": 46,
     "metadata": {},
     "output_type": "execute_result"
    }
   ],
   "source": [
    "default = [1, 3, 5, 4, 2]\n",
    "default.sort(reverse =True)\n",
    "default"
   ]
  },
  {
   "cell_type": "markdown",
   "id": "5804b541-8c6f-4101-be01-5a7226d4fe5f",
   "metadata": {},
   "source": [
    "#### **Q7.**"
   ]
  },
  {
   "cell_type": "code",
   "execution_count": 47,
   "id": "0865f5a3-cf3a-4d1b-856c-a67ddf580b08",
   "metadata": {},
   "outputs": [
    {
     "data": {
      "text/plain": [
       "'Life is too short'"
      ]
     },
     "execution_count": 47,
     "metadata": {},
     "output_type": "execute_result"
    }
   ],
   "source": [
    "default = \" \".join(['Life', 'is', 'too', 'short'])\n",
    "default"
   ]
  },
  {
   "cell_type": "markdown",
   "id": "823a028a-60d7-447a-9f76-a9ace984fdcf",
   "metadata": {},
   "source": [
    "#### **Q8.**"
   ]
  },
  {
   "cell_type": "code",
   "execution_count": 52,
   "id": "4c3f08a3-cc87-4a62-ba8f-ba0ed1978c28",
   "metadata": {},
   "outputs": [
    {
     "name": "stdout",
     "output_type": "stream",
     "text": [
      "(1, 2, 3, 4)\n"
     ]
    }
   ],
   "source": [
    "default = (1,2,3) \n",
    "plus = (4,)\n",
    "print(default + plus)"
   ]
  },
  {
   "cell_type": "markdown",
   "id": "4f365c36-0375-410c-9eb2-4d0a10776f7f",
   "metadata": {
    "tags": []
   },
   "source": [
    "#### **Q9.**"
   ]
  },
  {
   "cell_type": "code",
   "execution_count": 69,
   "id": "7be374d2-32fb-4daf-91ea-839a47f89868",
   "metadata": {},
   "outputs": [
    {
     "data": {
      "text/plain": [
       "{}"
      ]
     },
     "execution_count": 69,
     "metadata": {},
     "output_type": "execute_result"
    }
   ],
   "source": [
    "a = dict()\n",
    "a\n",
    "{}"
   ]
  },
  {
   "cell_type": "markdown",
   "id": "665910b0-c511-4c4b-b6ec-5be7abfc0781",
   "metadata": {},
   "source": [
    "다음 중 오류가 발생하는 경우를 고르고, 그 이유를 설명해 보자.\n",
    "\n",
    "- a['name'] = 'python'\n",
    "- a[('a',)] = 'python'\n",
    "- a[[1]] = 'python'\n",
    "- a[250] = 'python'"
   ]
  },
  {
   "cell_type": "markdown",
   "id": "a2ad1c15-015e-44fb-9e16-f71c6061156e",
   "metadata": {},
   "source": [
    "- **a[[1]] = 'python'** 오류 발생\n",
    "    - 리스트는 가변형이기 때문이다!"
   ]
  },
  {
   "cell_type": "markdown",
   "id": "d21ba1b7-4679-4608-aef8-bf820ba03fce",
   "metadata": {},
   "source": [
    "#### **Q10.**"
   ]
  },
  {
   "cell_type": "code",
   "execution_count": 58,
   "id": "860f40d9-8dd1-4ed2-ae0d-7887b45811bf",
   "metadata": {},
   "outputs": [
    {
     "data": {
      "text/plain": [
       "80"
      ]
     },
     "execution_count": 58,
     "metadata": {},
     "output_type": "execute_result"
    }
   ],
   "source": [
    "a = {'A':90, 'B':80, 'C':70}\n",
    "a.pop('B')"
   ]
  },
  {
   "cell_type": "markdown",
   "id": "09499c12-dead-443a-81cc-3eec24ce3cdf",
   "metadata": {},
   "source": [
    "#### **Q11.**"
   ]
  },
  {
   "cell_type": "code",
   "execution_count": 65,
   "id": "b99dda71-4635-4c46-b3d8-a108ba00639f",
   "metadata": {},
   "outputs": [
    {
     "data": {
      "text/plain": [
       "{1, 2, 3, 4, 5}"
      ]
     },
     "execution_count": 65,
     "metadata": {},
     "output_type": "execute_result"
    }
   ],
   "source": [
    "a = [1, 1, 1, 2, 2, 3, 3, 3, 4, 4, 5]\n",
    "set(a)"
   ]
  },
  {
   "cell_type": "markdown",
   "id": "0872931d-beb2-448c-ab5c-ed922802b82f",
   "metadata": {},
   "source": [
    "#### **Q12.**"
   ]
  },
  {
   "cell_type": "code",
   "execution_count": 66,
   "id": "8dadb79f-c126-4514-a655-7366977c7b2f",
   "metadata": {},
   "outputs": [
    {
     "name": "stdout",
     "output_type": "stream",
     "text": [
      "[1, 4, 3]\n"
     ]
    }
   ],
   "source": [
    "a = b = [1, 2, 3]\n",
    "a[1] = 4\n",
    "print(b)"
   ]
  },
  {
   "cell_type": "markdown",
   "id": "19439b6b-2e3a-41f8-826a-e205099b0015",
   "metadata": {},
   "source": [
    "-> a와 b의 주소가 같기 때문에 a가 바뀌면 b 또한 바뀐다."
   ]
  }
 ],
 "metadata": {
  "kernelspec": {
   "display_name": "Python 3 (ipykernel)",
   "language": "python",
   "name": "python3"
  },
  "language_info": {
   "codemirror_mode": {
    "name": "ipython",
    "version": 3
   },
   "file_extension": ".py",
   "mimetype": "text/x-python",
   "name": "python",
   "nbconvert_exporter": "python",
   "pygments_lexer": "ipython3",
   "version": "3.9.7"
  }
 },
 "nbformat": 4,
 "nbformat_minor": 5
}
