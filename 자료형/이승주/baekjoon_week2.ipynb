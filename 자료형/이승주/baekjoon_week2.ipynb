{
 "cells": [
  {
   "cell_type": "markdown",
   "id": "1da859e5-b704-4dbd-9661-e985e68a568a",
   "metadata": {},
   "source": [
    "### **WEEK2. 02장 자료형 백준**"
   ]
  },
  {
   "cell_type": "markdown",
   "id": "fb0718e8-f519-41ed-b210-8507852f57a4",
   "metadata": {},
   "source": [
    "#### **Q1.**"
   ]
  },
  {
   "cell_type": "code",
   "execution_count": 1,
   "id": "3f26e6c7-577d-4715-9a07-b165612c631c",
   "metadata": {},
   "outputs": [
    {
     "name": "stdout",
     "output_type": "stream",
     "text": [
      "Hello world!\n"
     ]
    }
   ],
   "source": [
    "print('Hello world!')"
   ]
  },
  {
   "cell_type": "markdown",
   "id": "56c8eb67-9ff6-4f69-9f4f-a4a1bbdca270",
   "metadata": {},
   "source": [
    "#### **Q2.**"
   ]
  },
  {
   "cell_type": "code",
   "execution_count": 7,
   "id": "4c0cf2a8-77ee-4435-b154-34ed67fa6db0",
   "metadata": {},
   "outputs": [
    {
     "name": "stdout",
     "output_type": "stream",
     "text": [
      "강한친구 대한육군\n",
      "강한친구 대한육군\n"
     ]
    }
   ],
   "source": [
    "for_kriii = '강한친구 대한육군'\n",
    "print(for_kriii)\n",
    "print(for_kriii)"
   ]
  },
  {
   "cell_type": "markdown",
   "id": "447ab037-3d67-4437-9c5c-acc44123ae3c",
   "metadata": {},
   "source": [
    "#### **Q3.**"
   ]
  },
  {
   "cell_type": "code",
   "execution_count": 53,
   "id": "5462ad47-da4b-42d6-8db2-ae2358d06a0c",
   "metadata": {},
   "outputs": [
    {
     "name": "stdout",
     "output_type": "stream",
     "text": [
      "\\    /\\\n",
      " )  ( ')\n",
      "(  /  )\n",
      " \\(__)|\n"
     ]
    }
   ],
   "source": [
    "print(\"\\    /\\\\\")\n",
    "print(\" )  ( ')\")\n",
    "print(\"(  /  )\")\n",
    "print(\" \\(__)|\")"
   ]
  },
  {
   "cell_type": "markdown",
   "id": "3573fa93-5f5d-4112-9988-5764f595be0c",
   "metadata": {},
   "source": [
    "#### **Q4.**"
   ]
  },
  {
   "cell_type": "code",
   "execution_count": 54,
   "id": "c26504e3-b155-4cc2-959c-00c519ef8c92",
   "metadata": {},
   "outputs": [
    {
     "name": "stdout",
     "output_type": "stream",
     "text": [
      "         ,r'\"7\n",
      "r`-_   ,'  ,/\n",
      " \\. \". L_r'\n",
      "   `~\\/\n",
      "      |\n",
      "      |\n"
     ]
    }
   ],
   "source": [
    "print('''         ,r'\"7''')\n",
    "print(\"r`-_   ,'  ,/\")\n",
    "print(\"\"\" \\. \". L_r'\"\"\")\n",
    "print(\"   `~\\/\")\n",
    "print(\"      |\")\n",
    "print(\"      |\")"
   ]
  },
  {
   "cell_type": "code",
   "execution_count": null,
   "id": "024d5d7e-77b1-4a72-9bef-69d607143370",
   "metadata": {},
   "outputs": [],
   "source": []
  },
  {
   "cell_type": "markdown",
   "id": "d293003d-fae8-406f-9ffa-42e3e69f73b6",
   "metadata": {},
   "source": [
    "#### **Q9.**"
   ]
  },
  {
   "cell_type": "code",
   "execution_count": 4,
   "id": "f39c6c4f-d74e-4ce3-9a5a-67f83c7d4631",
   "metadata": {},
   "outputs": [
    {
     "name": "stdin",
     "output_type": "stream",
     "text": [
      " 1 2\n"
     ]
    },
    {
     "name": "stdout",
     "output_type": "stream",
     "text": [
      "3\n",
      "-1\n",
      "2\n",
      "0\n",
      "1\n"
     ]
    }
   ],
   "source": [
    "A, B = input().split()   \n",
    "print(int(A) + int(B))\n",
    "print(int(A) - int(B))\n",
    "print(int(A) * int(B))\n",
    "print(int(A) // int(B))\n",
    "print(int(A) % int(B))"
   ]
  },
  {
   "cell_type": "markdown",
   "id": "3064e501-fa10-422a-be03-204fc893e0c7",
   "metadata": {},
   "source": [
    "#### **Q6.**"
   ]
  },
  {
   "cell_type": "code",
   "execution_count": 89,
   "id": "960097ac-dabc-44ae-b947-bd17b2e6bc7d",
   "metadata": {},
   "outputs": [
    {
     "name": "stdin",
     "output_type": "stream",
     "text": [
      " joonas\n"
     ]
    },
    {
     "name": "stdout",
     "output_type": "stream",
     "text": [
      "joonas??!\n"
     ]
    }
   ],
   "source": [
    "exist_id = input()\n",
    "print(f'{exist_id}??!')"
   ]
  },
  {
   "cell_type": "code",
   "execution_count": 102,
   "id": "a2623990-d3fc-44a7-8c95-87160e0c34a9",
   "metadata": {},
   "outputs": [
    {
     "name": "stdin",
     "output_type": "stream",
     "text": [
      " 2541\n"
     ]
    },
    {
     "name": "stdout",
     "output_type": "stream",
     "text": [
      "1998\n"
     ]
    }
   ],
   "source": [
    "BE= int(input())\n",
    "AD =  BE - 543\n",
    "print(AD)"
   ]
  },
  {
   "cell_type": "code",
   "execution_count": 132,
   "id": "26fa36aa-51d9-4460-aa37-c253e0675813",
   "metadata": {},
   "outputs": [
    {
     "name": "stdin",
     "output_type": "stream",
     "text": [
      " 5 8 4\n"
     ]
    },
    {
     "name": "stdout",
     "output_type": "stream",
     "text": [
      "1\n",
      "1\n",
      "0\n",
      "0\n"
     ]
    }
   ],
   "source": [
    "A, B, C = input().split()\n",
    "A = int(A)\n",
    "B = int(B)\n",
    "C = int(C)\n",
    "\n",
    "print((A+B)%C)\n",
    "print(((A%C) + (B%C))%C)\n",
    "print( (A*B)%C)\n",
    "print(((A%C) * (B%C))%C)"
   ]
  },
  {
   "cell_type": "code",
   "execution_count": 118,
   "id": "02695afc-7ada-4f57-82f1-0d9838805a36",
   "metadata": {},
   "outputs": [
    {
     "name": "stdin",
     "output_type": "stream",
     "text": [
      " 472\n",
      " 385\n"
     ]
    },
    {
     "name": "stdout",
     "output_type": "stream",
     "text": [
      "2360\n",
      "3776\n",
      "1416\n",
      "181720\n"
     ]
    }
   ],
   "source": [
    "first_number = input()\n",
    "second_number = input()\n",
    "\n",
    "print(int(first_number) * int(second_number[-1]))\n",
    "print(int(first_number) * int(second_number[-2]))\n",
    "print(int(first_number) * int(second_number[-3]))\n",
    "print(int(first_number) * int(second_number))"
   ]
  },
  {
   "cell_type": "code",
   "execution_count": null,
   "id": "6dfba07e-55b4-4025-ad67-298568b1e4f3",
   "metadata": {},
   "outputs": [],
   "source": []
  }
 ],
 "metadata": {
  "kernelspec": {
   "display_name": "Python 3 (ipykernel)",
   "language": "python",
   "name": "python3"
  },
  "language_info": {
   "codemirror_mode": {
    "name": "ipython",
    "version": 3
   },
   "file_extension": ".py",
   "mimetype": "text/x-python",
   "name": "python",
   "nbconvert_exporter": "python",
   "pygments_lexer": "ipython3",
   "version": "3.9.7"
  }
 },
 "nbformat": 4,
 "nbformat_minor": 5
}
